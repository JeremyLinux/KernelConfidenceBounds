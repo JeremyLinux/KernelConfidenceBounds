{
 "cells": [
  {
   "cell_type": "code",
   "execution_count": null,
   "id": "a90eeab4",
   "metadata": {},
   "outputs": [],
   "source": [
    "import numpy as np\n",
    "import sys\n",
    "import kernels as ker\n",
    "import time_per_step as tps"
   ]
  },
  {
   "cell_type": "code",
   "execution_count": null,
   "id": "8f29a7c6",
   "metadata": {},
   "outputs": [],
   "source": [
    "ls = 0.5\n",
    "kernel = ker.Matern52Kernel(ls)\n",
    "\n",
    "a = 0.0\n",
    "b = 1.0\n",
    "d = 3\n",
    "m = 20\n",
    "B = 10.0\n",
    "K = 100\n",
    "T = 1000\n",
    "Tc = 200\n",
    "sigma = 0.1\n",
    "\n",
    "nu = 5/2\n",
    "c = 1.0*T**(-d/(2*nu + 2*d))\n",
    "delta = 0.01\n",
    "eps = 1e-6\n",
    "alpha_0 = sigma**2/c\n",
    "alphas = [0.1*alpha_0, 0.3*alpha_0, alpha_0, 3.0*alpha_0, 10.0*alpha_0]\n",
    "\n",
    "runs = 10\n",
    "agp_times = np.zeros((runs, T))\n",
    "igp_times = np.zeros((runs, T))\n",
    "amm_times = np.zeros((runs, T))\n",
    "dmm_times = np.zeros((runs, T))\n",
    "cmm_times = np.zeros((runs, Tc))\n",
    "\n",
    "for i in range(runs):\n",
    "    env = ker.KernelCBEnv(kernel, a, b, m, d, K, B, sigma, T)\n",
    "    \n",
    "    agp_times[i] = tps.ay_gp_ucb(env, kernel, a, b, d, K, B, sigma, T, c, delta)\n",
    "    igp_times[i] = tps.igp_ucb(env, kernel, a, b, d, K, B, sigma, T, delta)\n",
    "    amm_times[i] = tps.amm_ucb(env, kernel, a, b, d, K, B, sigma, T, c, delta)\n",
    "    dmm_times[i] = tps.dmm_ucb(env, kernel, a, b, d, K, B, sigma, T, c, alphas, delta)\n",
    "    cmm_times[i] = tps.cmm_ucb(env, kernel, a, b, d, K, B, sigma, Tc, c, delta, eps)\n",
    "    \n",
    "    sys.stdout.write(f'\\rcompleted run: {i+1}   ')\n",
    "    sys.stdout.flush()"
   ]
  },
  {
   "cell_type": "code",
   "execution_count": null,
   "id": "4b5530ae",
   "metadata": {},
   "outputs": [],
   "source": [
    "problem_name = 'per_step'\n",
    "\n",
    "with open(f'results/agp_times_{problem_name}.npy', 'wb') as f:\n",
    "    np.save(f, agp_times)\n",
    "\n",
    "with open(f'results/igp_times_{problem_name}.npy', 'wb') as f:\n",
    "    np.save(f, igp_times)\n",
    "    \n",
    "with open(f'results/amm_times_{problem_name}.npy', 'wb') as f:\n",
    "    np.save(f, amm_times)\n",
    "    \n",
    "with open(f'results/dmm_times_{problem_name}.npy', 'wb') as f:\n",
    "    np.save(f, dmm_times)\n",
    "\n",
    "with open(f'results/cmm_times_{problem_name}.npy', 'wb') as f:\n",
    "    np.save(f, cmm_times)"
   ]
  }
 ],
 "metadata": {
  "kernelspec": {
   "display_name": "Python 3",
   "language": "python",
   "name": "python3"
  },
  "language_info": {
   "codemirror_mode": {
    "name": "ipython",
    "version": 3
   },
   "file_extension": ".py",
   "mimetype": "text/x-python",
   "name": "python",
   "nbconvert_exporter": "python",
   "pygments_lexer": "ipython3",
   "version": "3.8.10"
  }
 },
 "nbformat": 4,
 "nbformat_minor": 5
}
